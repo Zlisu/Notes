{
 "cells": [
  {
   "cell_type": "markdown",
   "metadata": {},
   "source": []
  },
  {
   "cell_type": "markdown",
   "metadata": {},
   "source": [
    "# itertools.zip_longest()\n",
    "\n",
    "进行配对时，如果其中一个 iterator 中的元素数量不够，用 None 补足"
   ]
  },
  {
   "cell_type": "code",
   "execution_count": 2,
   "metadata": {},
   "outputs": [
    {
     "name": "stdout",
     "output_type": "stream",
     "text": [
      "[(1, 'a'), (2, 'b'), (3, 'c')]\n",
      "[(1, 'a'), (2, 'b'), (3, 'c'), (4, None), (5, None)]\n"
     ]
    }
   ],
   "source": [
    "import itertools as it\n",
    "\n",
    "x = [1, 2, 3, 4, 5]\n",
    "y = ['a', 'b', 'c']\n",
    "\n",
    "print(list(zip(x, y)))\n",
    "print(list(it.zip_longest(x, y)))"
   ]
  },
  {
   "cell_type": "markdown",
   "metadata": {},
   "source": [
    "# Combination and Permutation 排列组合"
   ]
  },
  {
   "cell_type": "markdown",
   "metadata": {},
   "source": [
    "## itertools.combinations()\n",
    "\n",
    "从 iterator 中任取 n 个元素组成组合；每个元素只能用一次。"
   ]
  },
  {
   "cell_type": "code",
   "execution_count": 4,
   "metadata": {},
   "outputs": [
    {
     "data": {
      "text/plain": [
       "[(20, 20, 20),\n",
       " (20, 20, 10),\n",
       " (20, 20, 10),\n",
       " (20, 20, 10),\n",
       " (20, 20, 10),\n",
       " (20, 20, 10),\n",
       " (20, 20, 5),\n",
       " (20, 20, 5),\n",
       " (20, 20, 1),\n",
       " (20, 20, 1),\n",
       " (20, 20, 1),\n",
       " (20, 20, 1),\n",
       " (20, 20, 1),\n",
       " (20, 20, 10),\n",
       " (20, 20, 10),\n",
       " (20, 20, 10),\n",
       " (20, 20, 10),\n",
       " (20, 20, 10),\n",
       " (20, 20, 5),\n",
       " (20, 20, 5),\n",
       " (20, 20, 1),\n",
       " (20, 20, 1),\n",
       " (20, 20, 1),\n",
       " (20, 20, 1),\n",
       " (20, 20, 1),\n",
       " (20, 10, 10),\n",
       " (20, 10, 10),\n",
       " (20, 10, 10),\n",
       " (20, 10, 10),\n",
       " (20, 10, 5),\n",
       " (20, 10, 5),\n",
       " (20, 10, 1),\n",
       " (20, 10, 1),\n",
       " (20, 10, 1),\n",
       " (20, 10, 1),\n",
       " (20, 10, 1),\n",
       " (20, 10, 10),\n",
       " (20, 10, 10),\n",
       " (20, 10, 10),\n",
       " (20, 10, 5),\n",
       " (20, 10, 5),\n",
       " (20, 10, 1),\n",
       " (20, 10, 1),\n",
       " (20, 10, 1),\n",
       " (20, 10, 1),\n",
       " (20, 10, 1),\n",
       " (20, 10, 10),\n",
       " (20, 10, 10),\n",
       " (20, 10, 5),\n",
       " (20, 10, 5),\n",
       " (20, 10, 1),\n",
       " (20, 10, 1),\n",
       " (20, 10, 1),\n",
       " (20, 10, 1),\n",
       " (20, 10, 1),\n",
       " (20, 10, 10),\n",
       " (20, 10, 5),\n",
       " (20, 10, 5),\n",
       " (20, 10, 1),\n",
       " (20, 10, 1),\n",
       " (20, 10, 1),\n",
       " (20, 10, 1),\n",
       " (20, 10, 1),\n",
       " (20, 10, 5),\n",
       " (20, 10, 5),\n",
       " (20, 10, 1),\n",
       " (20, 10, 1),\n",
       " (20, 10, 1),\n",
       " (20, 10, 1),\n",
       " (20, 10, 1),\n",
       " (20, 5, 5),\n",
       " (20, 5, 1),\n",
       " (20, 5, 1),\n",
       " (20, 5, 1),\n",
       " (20, 5, 1),\n",
       " (20, 5, 1),\n",
       " (20, 5, 1),\n",
       " (20, 5, 1),\n",
       " (20, 5, 1),\n",
       " (20, 5, 1),\n",
       " (20, 5, 1),\n",
       " (20, 1, 1),\n",
       " (20, 1, 1),\n",
       " (20, 1, 1),\n",
       " (20, 1, 1),\n",
       " (20, 1, 1),\n",
       " (20, 1, 1),\n",
       " (20, 1, 1),\n",
       " (20, 1, 1),\n",
       " (20, 1, 1),\n",
       " (20, 1, 1),\n",
       " (20, 20, 10),\n",
       " (20, 20, 10),\n",
       " (20, 20, 10),\n",
       " (20, 20, 10),\n",
       " (20, 20, 10),\n",
       " (20, 20, 5),\n",
       " (20, 20, 5),\n",
       " (20, 20, 1),\n",
       " (20, 20, 1),\n",
       " (20, 20, 1),\n",
       " (20, 20, 1),\n",
       " (20, 20, 1),\n",
       " (20, 10, 10),\n",
       " (20, 10, 10),\n",
       " (20, 10, 10),\n",
       " (20, 10, 10),\n",
       " (20, 10, 5),\n",
       " (20, 10, 5),\n",
       " (20, 10, 1),\n",
       " (20, 10, 1),\n",
       " (20, 10, 1),\n",
       " (20, 10, 1),\n",
       " (20, 10, 1),\n",
       " (20, 10, 10),\n",
       " (20, 10, 10),\n",
       " (20, 10, 10),\n",
       " (20, 10, 5),\n",
       " (20, 10, 5),\n",
       " (20, 10, 1),\n",
       " (20, 10, 1),\n",
       " (20, 10, 1),\n",
       " (20, 10, 1),\n",
       " (20, 10, 1),\n",
       " (20, 10, 10),\n",
       " (20, 10, 10),\n",
       " (20, 10, 5),\n",
       " (20, 10, 5),\n",
       " (20, 10, 1),\n",
       " (20, 10, 1),\n",
       " (20, 10, 1),\n",
       " (20, 10, 1),\n",
       " (20, 10, 1),\n",
       " (20, 10, 10),\n",
       " (20, 10, 5),\n",
       " (20, 10, 5),\n",
       " (20, 10, 1),\n",
       " (20, 10, 1),\n",
       " (20, 10, 1),\n",
       " (20, 10, 1),\n",
       " (20, 10, 1),\n",
       " (20, 10, 5),\n",
       " (20, 10, 5),\n",
       " (20, 10, 1),\n",
       " (20, 10, 1),\n",
       " (20, 10, 1),\n",
       " (20, 10, 1),\n",
       " (20, 10, 1),\n",
       " (20, 5, 5),\n",
       " (20, 5, 1),\n",
       " (20, 5, 1),\n",
       " (20, 5, 1),\n",
       " (20, 5, 1),\n",
       " (20, 5, 1),\n",
       " (20, 5, 1),\n",
       " (20, 5, 1),\n",
       " (20, 5, 1),\n",
       " (20, 5, 1),\n",
       " (20, 5, 1),\n",
       " (20, 1, 1),\n",
       " (20, 1, 1),\n",
       " (20, 1, 1),\n",
       " (20, 1, 1),\n",
       " (20, 1, 1),\n",
       " (20, 1, 1),\n",
       " (20, 1, 1),\n",
       " (20, 1, 1),\n",
       " (20, 1, 1),\n",
       " (20, 1, 1),\n",
       " (20, 10, 10),\n",
       " (20, 10, 10),\n",
       " (20, 10, 10),\n",
       " (20, 10, 10),\n",
       " (20, 10, 5),\n",
       " (20, 10, 5),\n",
       " (20, 10, 1),\n",
       " (20, 10, 1),\n",
       " (20, 10, 1),\n",
       " (20, 10, 1),\n",
       " (20, 10, 1),\n",
       " (20, 10, 10),\n",
       " (20, 10, 10),\n",
       " (20, 10, 10),\n",
       " (20, 10, 5),\n",
       " (20, 10, 5),\n",
       " (20, 10, 1),\n",
       " (20, 10, 1),\n",
       " (20, 10, 1),\n",
       " (20, 10, 1),\n",
       " (20, 10, 1),\n",
       " (20, 10, 10),\n",
       " (20, 10, 10),\n",
       " (20, 10, 5),\n",
       " (20, 10, 5),\n",
       " (20, 10, 1),\n",
       " (20, 10, 1),\n",
       " (20, 10, 1),\n",
       " (20, 10, 1),\n",
       " (20, 10, 1),\n",
       " (20, 10, 10),\n",
       " (20, 10, 5),\n",
       " (20, 10, 5),\n",
       " (20, 10, 1),\n",
       " (20, 10, 1),\n",
       " (20, 10, 1),\n",
       " (20, 10, 1),\n",
       " (20, 10, 1),\n",
       " (20, 10, 5),\n",
       " (20, 10, 5),\n",
       " (20, 10, 1),\n",
       " (20, 10, 1),\n",
       " (20, 10, 1),\n",
       " (20, 10, 1),\n",
       " (20, 10, 1),\n",
       " (20, 5, 5),\n",
       " (20, 5, 1),\n",
       " (20, 5, 1),\n",
       " (20, 5, 1),\n",
       " (20, 5, 1),\n",
       " (20, 5, 1),\n",
       " (20, 5, 1),\n",
       " (20, 5, 1),\n",
       " (20, 5, 1),\n",
       " (20, 5, 1),\n",
       " (20, 5, 1),\n",
       " (20, 1, 1),\n",
       " (20, 1, 1),\n",
       " (20, 1, 1),\n",
       " (20, 1, 1),\n",
       " (20, 1, 1),\n",
       " (20, 1, 1),\n",
       " (20, 1, 1),\n",
       " (20, 1, 1),\n",
       " (20, 1, 1),\n",
       " (20, 1, 1),\n",
       " (10, 10, 10),\n",
       " (10, 10, 10),\n",
       " (10, 10, 10),\n",
       " (10, 10, 5),\n",
       " (10, 10, 5),\n",
       " (10, 10, 1),\n",
       " (10, 10, 1),\n",
       " (10, 10, 1),\n",
       " (10, 10, 1),\n",
       " (10, 10, 1),\n",
       " (10, 10, 10),\n",
       " (10, 10, 10),\n",
       " (10, 10, 5),\n",
       " (10, 10, 5),\n",
       " (10, 10, 1),\n",
       " (10, 10, 1),\n",
       " (10, 10, 1),\n",
       " (10, 10, 1),\n",
       " (10, 10, 1),\n",
       " (10, 10, 10),\n",
       " (10, 10, 5),\n",
       " (10, 10, 5),\n",
       " (10, 10, 1),\n",
       " (10, 10, 1),\n",
       " (10, 10, 1),\n",
       " (10, 10, 1),\n",
       " (10, 10, 1),\n",
       " (10, 10, 5),\n",
       " (10, 10, 5),\n",
       " (10, 10, 1),\n",
       " (10, 10, 1),\n",
       " (10, 10, 1),\n",
       " (10, 10, 1),\n",
       " (10, 10, 1),\n",
       " (10, 5, 5),\n",
       " (10, 5, 1),\n",
       " (10, 5, 1),\n",
       " (10, 5, 1),\n",
       " (10, 5, 1),\n",
       " (10, 5, 1),\n",
       " (10, 5, 1),\n",
       " (10, 5, 1),\n",
       " (10, 5, 1),\n",
       " (10, 5, 1),\n",
       " (10, 5, 1),\n",
       " (10, 1, 1),\n",
       " (10, 1, 1),\n",
       " (10, 1, 1),\n",
       " (10, 1, 1),\n",
       " (10, 1, 1),\n",
       " (10, 1, 1),\n",
       " (10, 1, 1),\n",
       " (10, 1, 1),\n",
       " (10, 1, 1),\n",
       " (10, 1, 1),\n",
       " (10, 10, 10),\n",
       " (10, 10, 10),\n",
       " (10, 10, 5),\n",
       " (10, 10, 5),\n",
       " (10, 10, 1),\n",
       " (10, 10, 1),\n",
       " (10, 10, 1),\n",
       " (10, 10, 1),\n",
       " (10, 10, 1),\n",
       " (10, 10, 10),\n",
       " (10, 10, 5),\n",
       " (10, 10, 5),\n",
       " (10, 10, 1),\n",
       " (10, 10, 1),\n",
       " (10, 10, 1),\n",
       " (10, 10, 1),\n",
       " (10, 10, 1),\n",
       " (10, 10, 5),\n",
       " (10, 10, 5),\n",
       " (10, 10, 1),\n",
       " (10, 10, 1),\n",
       " (10, 10, 1),\n",
       " (10, 10, 1),\n",
       " (10, 10, 1),\n",
       " (10, 5, 5),\n",
       " (10, 5, 1),\n",
       " (10, 5, 1),\n",
       " (10, 5, 1),\n",
       " (10, 5, 1),\n",
       " (10, 5, 1),\n",
       " (10, 5, 1),\n",
       " (10, 5, 1),\n",
       " (10, 5, 1),\n",
       " (10, 5, 1),\n",
       " (10, 5, 1),\n",
       " (10, 1, 1),\n",
       " (10, 1, 1),\n",
       " (10, 1, 1),\n",
       " (10, 1, 1),\n",
       " (10, 1, 1),\n",
       " (10, 1, 1),\n",
       " (10, 1, 1),\n",
       " (10, 1, 1),\n",
       " (10, 1, 1),\n",
       " (10, 1, 1),\n",
       " (10, 10, 10),\n",
       " (10, 10, 5),\n",
       " (10, 10, 5),\n",
       " (10, 10, 1),\n",
       " (10, 10, 1),\n",
       " (10, 10, 1),\n",
       " (10, 10, 1),\n",
       " (10, 10, 1),\n",
       " (10, 10, 5),\n",
       " (10, 10, 5),\n",
       " (10, 10, 1),\n",
       " (10, 10, 1),\n",
       " (10, 10, 1),\n",
       " (10, 10, 1),\n",
       " (10, 10, 1),\n",
       " (10, 5, 5),\n",
       " (10, 5, 1),\n",
       " (10, 5, 1),\n",
       " (10, 5, 1),\n",
       " (10, 5, 1),\n",
       " (10, 5, 1),\n",
       " (10, 5, 1),\n",
       " (10, 5, 1),\n",
       " (10, 5, 1),\n",
       " (10, 5, 1),\n",
       " (10, 5, 1),\n",
       " (10, 1, 1),\n",
       " (10, 1, 1),\n",
       " (10, 1, 1),\n",
       " (10, 1, 1),\n",
       " (10, 1, 1),\n",
       " (10, 1, 1),\n",
       " (10, 1, 1),\n",
       " (10, 1, 1),\n",
       " (10, 1, 1),\n",
       " (10, 1, 1),\n",
       " (10, 10, 5),\n",
       " (10, 10, 5),\n",
       " (10, 10, 1),\n",
       " (10, 10, 1),\n",
       " (10, 10, 1),\n",
       " (10, 10, 1),\n",
       " (10, 10, 1),\n",
       " (10, 5, 5),\n",
       " (10, 5, 1),\n",
       " (10, 5, 1),\n",
       " (10, 5, 1),\n",
       " (10, 5, 1),\n",
       " (10, 5, 1),\n",
       " (10, 5, 1),\n",
       " (10, 5, 1),\n",
       " (10, 5, 1),\n",
       " (10, 5, 1),\n",
       " (10, 5, 1),\n",
       " (10, 1, 1),\n",
       " (10, 1, 1),\n",
       " (10, 1, 1),\n",
       " (10, 1, 1),\n",
       " (10, 1, 1),\n",
       " (10, 1, 1),\n",
       " (10, 1, 1),\n",
       " (10, 1, 1),\n",
       " (10, 1, 1),\n",
       " (10, 1, 1),\n",
       " (10, 5, 5),\n",
       " (10, 5, 1),\n",
       " (10, 5, 1),\n",
       " (10, 5, 1),\n",
       " (10, 5, 1),\n",
       " (10, 5, 1),\n",
       " (10, 5, 1),\n",
       " (10, 5, 1),\n",
       " (10, 5, 1),\n",
       " (10, 5, 1),\n",
       " (10, 5, 1),\n",
       " (10, 1, 1),\n",
       " (10, 1, 1),\n",
       " (10, 1, 1),\n",
       " (10, 1, 1),\n",
       " (10, 1, 1),\n",
       " (10, 1, 1),\n",
       " (10, 1, 1),\n",
       " (10, 1, 1),\n",
       " (10, 1, 1),\n",
       " (10, 1, 1),\n",
       " (5, 5, 1),\n",
       " (5, 5, 1),\n",
       " (5, 5, 1),\n",
       " (5, 5, 1),\n",
       " (5, 5, 1),\n",
       " (5, 1, 1),\n",
       " (5, 1, 1),\n",
       " (5, 1, 1),\n",
       " (5, 1, 1),\n",
       " (5, 1, 1),\n",
       " (5, 1, 1),\n",
       " (5, 1, 1),\n",
       " (5, 1, 1),\n",
       " (5, 1, 1),\n",
       " (5, 1, 1),\n",
       " (5, 1, 1),\n",
       " (5, 1, 1),\n",
       " (5, 1, 1),\n",
       " (5, 1, 1),\n",
       " (5, 1, 1),\n",
       " (5, 1, 1),\n",
       " (5, 1, 1),\n",
       " (5, 1, 1),\n",
       " (5, 1, 1),\n",
       " (5, 1, 1),\n",
       " (1, 1, 1),\n",
       " (1, 1, 1),\n",
       " (1, 1, 1),\n",
       " (1, 1, 1),\n",
       " (1, 1, 1),\n",
       " (1, 1, 1),\n",
       " (1, 1, 1),\n",
       " (1, 1, 1),\n",
       " (1, 1, 1),\n",
       " (1, 1, 1)]"
      ]
     },
     "execution_count": 4,
     "metadata": {},
     "output_type": "execute_result"
    }
   ],
   "source": [
    "bills = [20, 20, 20, 10, 10, 10, 10, 10, 5, 5, 1, 1, 1, 1, 1]\n",
    "list(it.combinations(bills, 3))"
   ]
  },
  {
   "cell_type": "markdown",
   "metadata": {},
   "source": [
    "用下列钞票组成 \\\\$100 总金额的组合："
   ]
  },
  {
   "cell_type": "code",
   "execution_count": 2,
   "metadata": {},
   "outputs": [
    {
     "name": "stdout",
     "output_type": "stream",
     "text": [
      "with orders: \n",
      " [(20, 20, 20, 10, 10, 10, 10), (20, 20, 20, 10, 10, 10, 10), (20, 20, 20, 10, 10, 10, 10), (20, 20, 20, 10, 10, 10, 10), (20, 20, 20, 10, 10, 10, 10), (20, 20, 20, 10, 10, 10, 5, 5), (20, 20, 20, 10, 10, 10, 5, 5), (20, 20, 20, 10, 10, 10, 5, 5), (20, 20, 20, 10, 10, 10, 5, 5), (20, 20, 20, 10, 10, 10, 5, 5), (20, 20, 20, 10, 10, 10, 5, 5), (20, 20, 20, 10, 10, 10, 5, 5), (20, 20, 20, 10, 10, 10, 5, 5), (20, 20, 20, 10, 10, 10, 5, 5), (20, 20, 20, 10, 10, 10, 5, 5), (20, 20, 10, 10, 10, 10, 10, 5, 5), (20, 20, 10, 10, 10, 10, 10, 5, 5), (20, 20, 10, 10, 10, 10, 10, 5, 5), (20, 20, 20, 10, 10, 10, 5, 1, 1, 1, 1, 1), (20, 20, 20, 10, 10, 10, 5, 1, 1, 1, 1, 1), (20, 20, 20, 10, 10, 10, 5, 1, 1, 1, 1, 1), (20, 20, 20, 10, 10, 10, 5, 1, 1, 1, 1, 1), (20, 20, 20, 10, 10, 10, 5, 1, 1, 1, 1, 1), (20, 20, 20, 10, 10, 10, 5, 1, 1, 1, 1, 1), (20, 20, 20, 10, 10, 10, 5, 1, 1, 1, 1, 1), (20, 20, 20, 10, 10, 10, 5, 1, 1, 1, 1, 1), (20, 20, 20, 10, 10, 10, 5, 1, 1, 1, 1, 1), (20, 20, 20, 10, 10, 10, 5, 1, 1, 1, 1, 1), (20, 20, 20, 10, 10, 10, 5, 1, 1, 1, 1, 1), (20, 20, 20, 10, 10, 10, 5, 1, 1, 1, 1, 1), (20, 20, 20, 10, 10, 10, 5, 1, 1, 1, 1, 1), (20, 20, 20, 10, 10, 10, 5, 1, 1, 1, 1, 1), (20, 20, 20, 10, 10, 10, 5, 1, 1, 1, 1, 1), (20, 20, 20, 10, 10, 10, 5, 1, 1, 1, 1, 1), (20, 20, 20, 10, 10, 10, 5, 1, 1, 1, 1, 1), (20, 20, 20, 10, 10, 10, 5, 1, 1, 1, 1, 1), (20, 20, 20, 10, 10, 10, 5, 1, 1, 1, 1, 1), (20, 20, 20, 10, 10, 10, 5, 1, 1, 1, 1, 1), (20, 20, 10, 10, 10, 10, 10, 5, 1, 1, 1, 1, 1), (20, 20, 10, 10, 10, 10, 10, 5, 1, 1, 1, 1, 1), (20, 20, 10, 10, 10, 10, 10, 5, 1, 1, 1, 1, 1), (20, 20, 10, 10, 10, 10, 10, 5, 1, 1, 1, 1, 1), (20, 20, 10, 10, 10, 10, 10, 5, 1, 1, 1, 1, 1), (20, 20, 10, 10, 10, 10, 10, 5, 1, 1, 1, 1, 1)]\n",
      "ignore orders and remove duplicates: \n",
      " {(20, 20, 20, 10, 10, 10, 5, 5), (20, 20, 20, 10, 10, 10, 5, 1, 1, 1, 1, 1), (20, 20, 10, 10, 10, 10, 10, 5, 5), (20, 20, 10, 10, 10, 10, 10, 5, 1, 1, 1, 1, 1), (20, 20, 20, 10, 10, 10, 10)}\n"
     ]
    }
   ],
   "source": [
    "\n",
    "bills = [20, 20, 20, 10, 10, 10, 10, 10, 5, 5, 1, 1, 1, 1, 1]\n",
    "\n",
    "makes_100 = []\n",
    "for n in range(1, len(bills) + 1):\n",
    "    for combination in it.combinations(bills, n):\n",
    "        if sum(combination) == 100:\n",
    "            makes_100.append(combination)\n",
    "            \n",
    "print(\"with orders: \\n\",makes_100)\n",
    "print(\"ignore orders and remove duplicates: \\n\", set(makes_100))"
   ]
  },
  {
   "cell_type": "markdown",
   "metadata": {},
   "source": [
    "## itertools.combination_with_replacement()"
   ]
  },
  {
   "cell_type": "code",
   "execution_count": 5,
   "metadata": {},
   "outputs": [
    {
     "data": {
      "text/plain": [
       "[(1, 1), (1, 2), (2, 2)]"
      ]
     },
     "execution_count": 5,
     "metadata": {},
     "output_type": "execute_result"
    }
   ],
   "source": [
    "# 允许重复使用 iterator 中的元素\n",
    "list(it.combinations_with_replacement([1, 2], 2))"
   ]
  },
  {
   "cell_type": "code",
   "execution_count": 6,
   "metadata": {},
   "outputs": [
    {
     "data": {
      "text/plain": [
       "[(1, 2)]"
      ]
     },
     "execution_count": 6,
     "metadata": {},
     "output_type": "execute_result"
    }
   ],
   "source": [
    "# 不允许重复使用 iterator 中的元素\n",
    "list(it.combinations([1, 2], 2))"
   ]
  },
  {
   "cell_type": "markdown",
   "metadata": {},
   "source": [
    "取任意张 \\\\$50, \\\\$20, \\\\$10, \\\\$5, \\\\$1 钞票组成100美元"
   ]
  },
  {
   "cell_type": "code",
   "execution_count": 3,
   "metadata": {},
   "outputs": [
    {
     "data": {
      "text/plain": [
       "343"
      ]
     },
     "execution_count": 3,
     "metadata": {},
     "output_type": "execute_result"
    }
   ],
   "source": [
    "bills = [50, 20, 10, 5, 1]\n",
    "makes_100 = []\n",
    "for n in range(1, 101): #最小面额 $1, 所以可能的组合最多不超过100张钞票\n",
    "    for combination in it.combinations_with_replacement(bills, n):\n",
    "        if sum(combination) == 100:\n",
    "            makes_100.append(combination)\n",
    "\n",
    "# combinations_with_replacement 不会产生重复的组合\n",
    "# 所以不需要用 set() 去重\n",
    "len(makes_100)"
   ]
  },
  {
   "cell_type": "markdown",
   "metadata": {},
   "source": [
    "## itertools.permutaions() 排列"
   ]
  },
  {
   "cell_type": "code",
   "execution_count": 4,
   "metadata": {},
   "outputs": [
    {
     "data": {
      "text/plain": [
       "[('a', 'b', 'c'),\n",
       " ('a', 'c', 'b'),\n",
       " ('b', 'a', 'c'),\n",
       " ('b', 'c', 'a'),\n",
       " ('c', 'a', 'b'),\n",
       " ('c', 'b', 'a')]"
      ]
     },
     "execution_count": 4,
     "metadata": {},
     "output_type": "execute_result"
    }
   ],
   "source": [
    "list(it.permutations(['a', 'b', 'c']))"
   ]
  },
  {
   "cell_type": "markdown",
   "metadata": {},
   "source": [
    "# Sequence of numbers\n",
    "\n",
    "## itertools.count()"
   ]
  },
  {
   "cell_type": "code",
   "execution_count": 5,
   "metadata": {},
   "outputs": [
    {
     "data": {
      "text/plain": [
       "[0, 2, 4, 6, 8]"
      ]
     },
     "execution_count": 5,
     "metadata": {},
     "output_type": "execute_result"
    }
   ],
   "source": [
    "evens = it.count(step=2)\n",
    "list(next(evens) for _ in range(5))"
   ]
  },
  {
   "cell_type": "code",
   "execution_count": 6,
   "metadata": {},
   "outputs": [
    {
     "data": {
      "text/plain": [
       "[1, 3, 5, 7, 9]"
      ]
     },
     "execution_count": 6,
     "metadata": {},
     "output_type": "execute_result"
    }
   ],
   "source": [
    "odds = it.count(start=1, step=2)\n",
    "list(next(odds) for _ in range(5))"
   ]
  },
  {
   "cell_type": "markdown",
   "metadata": {},
   "source": [
    "### infinite iterator 有什么用\n",
    "\n",
    "不需要 loop, 即使不知道 list 中有多少个元素，也可以模拟出 enumerate()"
   ]
  },
  {
   "cell_type": "code",
   "execution_count": 7,
   "metadata": {},
   "outputs": [
    {
     "data": {
      "text/plain": [
       "[(0, 'a'), (1, 'b'), (2, (48, 30)), (3, 'c'), (4, ['apple', 99])]"
      ]
     },
     "execution_count": 7,
     "metadata": {},
     "output_type": "execute_result"
    }
   ],
   "source": [
    "some_list = ['a', 'b', (48, 30), 'c', ['apple', 99]]\n",
    "list(zip(it.count(), some_list))"
   ]
  },
  {
   "cell_type": "markdown",
   "metadata": {},
   "source": [
    "## first order recurrence relations"
   ]
  },
  {
   "cell_type": "markdown",
   "metadata": {},
   "source": [
    "### itertools.repeat()"
   ]
  },
  {
   "cell_type": "code",
   "execution_count": 13,
   "metadata": {},
   "outputs": [
    {
     "name": "stdout",
     "output_type": "stream",
     "text": [
      "1\n",
      "1\n",
      "1\n",
      "1\n",
      "1\n",
      "1\n",
      "1\n",
      "1\n",
      "1\n"
     ]
    }
   ],
   "source": [
    "all_ones = it.repeat(1)\n",
    "\n",
    "for _ in range(9):\n",
    "    print(next(all_ones))"
   ]
  },
  {
   "cell_type": "code",
   "execution_count": 14,
   "metadata": {},
   "outputs": [],
   "source": [
    "five_ones = it.repeat(1, 5)\n",
    "three_fours = it.repeat(4, 3)"
   ]
  },
  {
   "cell_type": "markdown",
   "metadata": {},
   "source": [
    "### itertools.cycle()"
   ]
  },
  {
   "cell_type": "code",
   "execution_count": 16,
   "metadata": {},
   "outputs": [
    {
     "name": "stdout",
     "output_type": "stream",
     "text": [
      "1\n",
      "-1\n",
      "1\n",
      "-1\n",
      "1\n",
      "-1\n",
      "1\n",
      "-1\n",
      "1\n",
      "-1\n"
     ]
    }
   ],
   "source": [
    "alternating_ones = it.cycle([1, -1])\n",
    "for _ in range(10):\n",
    "    print(next(alternating_ones))"
   ]
  },
  {
   "cell_type": "markdown",
   "metadata": {},
   "source": [
    "### itertools.accumulate()\n",
    "\n",
    "The first value in the iterator returned by accumulate() is always the first value in the input sequence. "
   ]
  },
  {
   "cell_type": "code",
   "execution_count": 4,
   "metadata": {},
   "outputs": [
    {
     "data": {
      "text/plain": [
       "[1, 3, 6, 10, 15]"
      ]
     },
     "execution_count": 4,
     "metadata": {},
     "output_type": "execute_result"
    }
   ],
   "source": [
    "import operator\n",
    "list(it.accumulate([1, 2, 3, 4, 5], operator.add))"
   ]
  },
  {
   "cell_type": "code",
   "execution_count": 5,
   "metadata": {},
   "outputs": [
    {
     "data": {
      "text/plain": [
       "[9, 9, 9, 5, 5, 5, 2, 2]"
      ]
     },
     "execution_count": 5,
     "metadata": {},
     "output_type": "execute_result"
    }
   ],
   "source": [
    "list(it.accumulate([9, 21, 17, 5, 11, 12, 2, 6], min))"
   ]
  },
  {
   "cell_type": "code",
   "execution_count": 6,
   "metadata": {},
   "outputs": [
    {
     "data": {
      "text/plain": [
       "[1, 1.5, 2.25, 3.125, 4.0625]"
      ]
     },
     "execution_count": 6,
     "metadata": {},
     "output_type": "execute_result"
    }
   ],
   "source": [
    "list(it.accumulate([1,2,3,4,5], lambda x, y : (x + y) / 2))"
   ]
  },
  {
   "cell_type": "markdown",
   "metadata": {},
   "source": [
    "The order of the arguments in the **binary function** passed to accumulate() is important. The first argument is always the previously accumulated result and the second argument is always the next element of the input iterable. "
   ]
  },
  {
   "cell_type": "code",
   "execution_count": 7,
   "metadata": {},
   "outputs": [
    {
     "data": {
      "text/plain": [
       "[1, -1, -4, -8, -13]"
      ]
     },
     "execution_count": 7,
     "metadata": {},
     "output_type": "execute_result"
    }
   ],
   "source": [
    "list(it.accumulate([1, 2, 3, 4, 5], lambda x, y: x-y))"
   ]
  },
  {
   "cell_type": "code",
   "execution_count": 8,
   "metadata": {},
   "outputs": [
    {
     "data": {
      "text/plain": [
       "[1, 1, 2, 2, 3]"
      ]
     },
     "execution_count": 8,
     "metadata": {},
     "output_type": "execute_result"
    }
   ],
   "source": [
    "list(it.accumulate([1, 2, 3, 4, 5], lambda x, y: y-x))"
   ]
  },
  {
   "cell_type": "markdown",
   "metadata": {},
   "source": [
    "## second order recurrence relations"
   ]
  },
  {
   "cell_type": "code",
   "execution_count": null,
   "metadata": {},
   "outputs": [],
   "source": []
  },
  {
   "cell_type": "markdown",
   "metadata": {},
   "source": [
    "# Dealing a Deck of Cards"
   ]
  },
  {
   "cell_type": "markdown",
   "metadata": {},
   "source": [
    "## Create a deck of cards"
   ]
  },
  {
   "cell_type": "code",
   "execution_count": 38,
   "metadata": {},
   "outputs": [],
   "source": [
    "ranks = ['A', 'K', 'Q', 'J', '10', '9', '8', '7', '6', '5', '4', '3', '2']\n",
    "suits = ['H', 'D', 'C', 'S']"
   ]
  },
  {
   "cell_type": "markdown",
   "metadata": {},
   "source": [
    "### by for loop and generator"
   ]
  },
  {
   "cell_type": "code",
   "execution_count": 39,
   "metadata": {},
   "outputs": [],
   "source": [
    "def cards():\n",
    "    for rank in ranks:\n",
    "        for suit in suits:\n",
    "            yield rank, suit"
   ]
  },
  {
   "cell_type": "markdown",
   "metadata": {},
   "source": [
    "### by generator expression"
   ]
  },
  {
   "cell_type": "code",
   "execution_count": 41,
   "metadata": {},
   "outputs": [
    {
     "data": {
      "text/plain": [
       "<generator object <genexpr> at 0x7f9c7e9bc350>"
      ]
     },
     "execution_count": 41,
     "metadata": {},
     "output_type": "execute_result"
    }
   ],
   "source": [
    "cards = ((rank, suit) for rank in ranks for suit in suits)\n",
    "cards"
   ]
  },
  {
   "cell_type": "markdown",
   "metadata": {},
   "source": [
    "### by itertools.product()\n",
    "\n",
    "Cartesian product"
   ]
  },
  {
   "cell_type": "code",
   "execution_count": 10,
   "metadata": {},
   "outputs": [
    {
     "data": {
      "text/plain": [
       "[(1, 'a'), (1, 'b'), (1, 'c'), (2, 'a'), (2, 'b'), (2, 'c')]"
      ]
     },
     "execution_count": 10,
     "metadata": {},
     "output_type": "execute_result"
    }
   ],
   "source": [
    "list(it.product([1, 2], ['a', 'b', 'c']))"
   ]
  },
  {
   "cell_type": "code",
   "execution_count": 12,
   "metadata": {
    "scrolled": true
   },
   "outputs": [
    {
     "data": {
      "text/plain": [
       "[(1, 'a', 'x'),\n",
       " (1, 'a', 'y'),\n",
       " (1, 'a', 'z'),\n",
       " (1, 'b', 'x'),\n",
       " (1, 'b', 'y'),\n",
       " (1, 'b', 'z'),\n",
       " (2, 'a', 'x'),\n",
       " (2, 'a', 'y'),\n",
       " (2, 'a', 'z'),\n",
       " (2, 'b', 'x'),\n",
       " (2, 'b', 'y'),\n",
       " (2, 'b', 'z'),\n",
       " (3, 'a', 'x'),\n",
       " (3, 'a', 'y'),\n",
       " (3, 'a', 'z'),\n",
       " (3, 'b', 'x'),\n",
       " (3, 'b', 'y'),\n",
       " (3, 'b', 'z')]"
      ]
     },
     "execution_count": 12,
     "metadata": {},
     "output_type": "execute_result"
    }
   ],
   "source": [
    "list(it.product([1, 2, 3], ['a', 'b'], ['x', 'y', 'z']))"
   ]
  },
  {
   "cell_type": "code",
   "execution_count": 46,
   "metadata": {},
   "outputs": [
    {
     "data": {
      "text/plain": [
       "<itertools.product at 0x7f9c7e936aa0>"
      ]
     },
     "execution_count": 46,
     "metadata": {},
     "output_type": "execute_result"
    }
   ],
   "source": [
    "cards = it.product(ranks, suits)\n",
    "cards"
   ]
  },
  {
   "cell_type": "markdown",
   "metadata": {},
   "source": [
    "## Shuffle cards"
   ]
  },
  {
   "cell_type": "code",
   "execution_count": 50,
   "metadata": {},
   "outputs": [],
   "source": [
    "import random\n",
    "\n",
    "def shuffle(deck):\n",
    "    \"\"\"Return iterator over shuffled deck.\"\"\"\n",
    "    deck = list(deck)\n",
    "    random.shuffle(deck)\n",
    "    return iter(tuple(deck))\n",
    "\n",
    "cards = shuffle(cards)"
   ]
  },
  {
   "cell_type": "markdown",
   "metadata": {},
   "source": [
    "## Cut deck"
   ]
  },
  {
   "cell_type": "markdown",
   "metadata": {},
   "source": [
    "### by slicing a list of the cards\n",
    "\n",
    "When you slice a list, you make a copy of the original list and return a new list with the selected elements. Therefore, this method is memmory inefficient if the deck is large."
   ]
  },
  {
   "cell_type": "code",
   "execution_count": 51,
   "metadata": {},
   "outputs": [],
   "source": [
    "def cut(deck, n):\n",
    "    \"\"\"Return an iterator over a deck of cards cut at index 'n'.\"\"\"\n",
    "    if n < 0:\n",
    "        raise ValueError(\"'n' must be a non-negative integer\")\n",
    "        \n",
    "    deck = list(deck)\n",
    "    return iter(deck[n:] + deck[:n])\n",
    "\n",
    "cards = cut(cards, 26) # Cut the deck in half"
   ]
  },
  {
   "cell_type": "markdown",
   "metadata": {},
   "source": [
    "### by itertools\n",
    "\n",
    "Using itertools avoid copying the whole deck while cut it"
   ]
  },
  {
   "cell_type": "code",
   "execution_count": 52,
   "metadata": {
    "scrolled": true
   },
   "outputs": [],
   "source": [
    "def cut(deck, n):\n",
    "    \"\"\"Return an iterator over a deck of cards cut at index 'n'.\"\"\"\n",
    "    deck1, deck2 = it.tee(deck, 2)\n",
    "    top = it.islice(deck1, n)  # \n",
    "    bottom = it.islice(deck2, n, None)  # None 代表从第n一直到最后一个元素\n",
    "    return it.chain(bottom, top)  # 把两部分交换位置重新组合起来\n",
    "\n",
    "cards = cut(cards, 26)  # Cut the deck in half"
   ]
  },
  {
   "cell_type": "markdown",
   "metadata": {},
   "source": [
    "#### itertools.tee()\n",
    "\n",
    "Create any number of **independent** iterators from a single input iterable."
   ]
  },
  {
   "cell_type": "code",
   "execution_count": 27,
   "metadata": {},
   "outputs": [
    {
     "data": {
      "text/plain": [
       "[1, 2, 3, 4, 5]"
      ]
     },
     "execution_count": 27,
     "metadata": {},
     "output_type": "execute_result"
    }
   ],
   "source": [
    "# creates two identical but independent iterators\n",
    "iterator1, iterator2 = it.tee([1, 2, 3, 4, 5], 2)\n",
    "\n",
    "list(iterator1)"
   ]
  },
  {
   "cell_type": "code",
   "execution_count": 25,
   "metadata": {},
   "outputs": [
    {
     "data": {
      "text/plain": [
       "[]"
      ]
     },
     "execution_count": 25,
     "metadata": {},
     "output_type": "execute_result"
    }
   ],
   "source": [
    "list(iterator1)  # iterator1 is now exhausted"
   ]
  },
  {
   "cell_type": "code",
   "execution_count": 26,
   "metadata": {},
   "outputs": [
    {
     "data": {
      "text/plain": [
       "[1, 2, 3, 4, 5]"
      ]
     },
     "execution_count": 26,
     "metadata": {},
     "output_type": "execute_result"
    }
   ],
   "source": [
    "list(iterator2)  # iterator2 works independently of iterator1"
   ]
  },
  {
   "cell_type": "code",
   "execution_count": 30,
   "metadata": {},
   "outputs": [
    {
     "data": {
      "text/plain": [
       "6"
      ]
     },
     "execution_count": 30,
     "metadata": {},
     "output_type": "execute_result"
    }
   ],
   "source": [
    "# creates two identical but independent iterators\n",
    "iterator1, iterator2 = it.tee([6,7,8,9,0], 2)\n",
    "\n",
    "next(iterator1)"
   ]
  },
  {
   "cell_type": "code",
   "execution_count": 31,
   "metadata": {},
   "outputs": [
    {
     "data": {
      "text/plain": [
       "7"
      ]
     },
     "execution_count": 31,
     "metadata": {},
     "output_type": "execute_result"
    }
   ],
   "source": [
    "next(iterator1)"
   ]
  },
  {
   "cell_type": "code",
   "execution_count": 32,
   "metadata": {},
   "outputs": [
    {
     "data": {
      "text/plain": [
       "6"
      ]
     },
     "execution_count": 32,
     "metadata": {},
     "output_type": "execute_result"
    }
   ],
   "source": [
    "next(iterator2)"
   ]
  },
  {
   "cell_type": "code",
   "execution_count": 33,
   "metadata": {},
   "outputs": [
    {
     "data": {
      "text/plain": [
       "8"
      ]
     },
     "execution_count": 33,
     "metadata": {},
     "output_type": "execute_result"
    }
   ],
   "source": [
    "next(iterator1)"
   ]
  },
  {
   "cell_type": "markdown",
   "metadata": {},
   "source": [
    "#### itertools.islice()\n",
    "\n",
    "islice(iterable, start, stop, step)"
   ]
  },
  {
   "cell_type": "code",
   "execution_count": 13,
   "metadata": {},
   "outputs": [
    {
     "data": {
      "text/plain": [
       "['C', 'D', 'E']"
      ]
     },
     "execution_count": 13,
     "metadata": {},
     "output_type": "execute_result"
    }
   ],
   "source": [
    "list(it.islice('ABCDEFG', 2, 5))"
   ]
  },
  {
   "cell_type": "code",
   "execution_count": 14,
   "metadata": {},
   "outputs": [
    {
     "data": {
      "text/plain": [
       "[1, 3, 5]"
      ]
     },
     "execution_count": 14,
     "metadata": {},
     "output_type": "execute_result"
    }
   ],
   "source": [
    "list(it.islice([1, 2, 3, 4, 5], 0, 5, 2))"
   ]
  },
  {
   "cell_type": "code",
   "execution_count": 15,
   "metadata": {},
   "outputs": [
    {
     "data": {
      "text/plain": [
       "[3, 4, 5, 6, 7, 8, 9]"
      ]
     },
     "execution_count": 15,
     "metadata": {},
     "output_type": "execute_result"
    }
   ],
   "source": [
    "list(it.islice(range(10), 3, None))"
   ]
  },
  {
   "cell_type": "code",
   "execution_count": 16,
   "metadata": {},
   "outputs": [
    {
     "data": {
      "text/plain": [
       "['A', 'B', 'C', 'D']"
      ]
     },
     "execution_count": 16,
     "metadata": {},
     "output_type": "execute_result"
    }
   ],
   "source": [
    "list(it.islice('ABCDE', 4))"
   ]
  },
  {
   "cell_type": "markdown",
   "metadata": {},
   "source": [
    "#### itertools.chain()"
   ]
  },
  {
   "cell_type": "code",
   "execution_count": 17,
   "metadata": {},
   "outputs": [
    {
     "data": {
      "text/plain": [
       "['A', 'B', 'C', 'D', 'E', 'F']"
      ]
     },
     "execution_count": 17,
     "metadata": {},
     "output_type": "execute_result"
    }
   ],
   "source": [
    "list(it.chain('ABC', 'DEF'))"
   ]
  },
  {
   "cell_type": "code",
   "execution_count": 19,
   "metadata": {},
   "outputs": [
    {
     "data": {
      "text/plain": [
       "[1, 2, 'a', 'b', 7, 8, 9]"
      ]
     },
     "execution_count": 19,
     "metadata": {},
     "output_type": "execute_result"
    }
   ],
   "source": [
    "list(it.chain([1, 2], ['a', 'b'], [7, 8, 9]))"
   ]
  },
  {
   "cell_type": "markdown",
   "metadata": {},
   "source": [
    "## Hands of cards"
   ]
  },
  {
   "cell_type": "code",
   "execution_count": 151,
   "metadata": {},
   "outputs": [],
   "source": [
    "cards = it.product(ranks, suits)\n",
    "\n",
    "def deal(deck, num_hands, hand_size):\n",
    "    iters = [iter(deck)] * hand_size\n",
    "    return tuple(zip(*(tuple(it.islice(itr, num_hands)) for itr in iters)))"
   ]
  },
  {
   "cell_type": "markdown",
   "metadata": {},
   "source": [
    "第一轮发牌："
   ]
  },
  {
   "cell_type": "code",
   "execution_count": 152,
   "metadata": {
    "scrolled": true
   },
   "outputs": [
    {
     "data": {
      "text/plain": [
       "((('A', 'H'), ('A', 'S'), ('K', 'C'), ('Q', 'D'), ('J', 'H')),\n",
       " (('A', 'D'), ('K', 'H'), ('K', 'S'), ('Q', 'C'), ('J', 'D')),\n",
       " (('A', 'C'), ('K', 'D'), ('Q', 'H'), ('Q', 'S'), ('J', 'C')))"
      ]
     },
     "execution_count": 152,
     "metadata": {},
     "output_type": "execute_result"
    }
   ],
   "source": [
    "deal(cards, num_hands=3, hand_size=5)"
   ]
  },
  {
   "cell_type": "markdown",
   "metadata": {},
   "source": [
    "第二轮发牌："
   ]
  },
  {
   "cell_type": "code",
   "execution_count": 153,
   "metadata": {},
   "outputs": [],
   "source": [
    "p1_hand, p2_hand, p3_hand = deal(cards, num_hands=3, hand_size = 5)"
   ]
  },
  {
   "cell_type": "code",
   "execution_count": 154,
   "metadata": {},
   "outputs": [
    {
     "data": {
      "text/plain": [
       "(('J', 'S'), ('10', 'C'), ('9', 'D'), ('8', 'H'), ('8', 'S'))"
      ]
     },
     "execution_count": 154,
     "metadata": {},
     "output_type": "execute_result"
    }
   ],
   "source": [
    "p1_hand"
   ]
  },
  {
   "cell_type": "code",
   "execution_count": 155,
   "metadata": {},
   "outputs": [
    {
     "data": {
      "text/plain": [
       "(('10', 'H'), ('10', 'S'), ('9', 'C'), ('8', 'D'), ('7', 'H'))"
      ]
     },
     "execution_count": 155,
     "metadata": {},
     "output_type": "execute_result"
    }
   ],
   "source": [
    "p2_hand"
   ]
  },
  {
   "cell_type": "code",
   "execution_count": 156,
   "metadata": {},
   "outputs": [
    {
     "data": {
      "text/plain": [
       "(('10', 'D'), ('9', 'H'), ('9', 'S'), ('8', 'C'), ('7', 'D'))"
      ]
     },
     "execution_count": 156,
     "metadata": {},
     "output_type": "execute_result"
    }
   ],
   "source": [
    "p3_hand"
   ]
  },
  {
   "cell_type": "code",
   "execution_count": 157,
   "metadata": {},
   "outputs": [
    {
     "data": {
      "text/plain": [
       "22"
      ]
     },
     "execution_count": 157,
     "metadata": {},
     "output_type": "execute_result"
    }
   ],
   "source": [
    "len(tuple(cards))  # 发出 3*5 张牌后还剩 37 张牌, 又发一轮后剩22张牌"
   ]
  },
  {
   "cell_type": "markdown",
   "metadata": {},
   "source": [
    "### break down"
   ]
  },
  {
   "cell_type": "markdown",
   "metadata": {},
   "source": [
    "#### [iter(inputs)] * n"
   ]
  },
  {
   "cell_type": "code",
   "execution_count": 116,
   "metadata": {},
   "outputs": [
    {
     "data": {
      "text/plain": [
       "[(1, 2), (3, 4), (5, 6), (7, 8), (9, 10)]"
      ]
     },
     "execution_count": 116,
     "metadata": {},
     "output_type": "execute_result"
    }
   ],
   "source": [
    "def naive_grouper(inputs, n):\n",
    "    num_groups = len(inputs) // n\n",
    "    return [tuple(inputs[i*n:(i+1)*n]) for i in range(num_groups)]\n",
    "\n",
    "nums = [1, 2, 3, 4, 5, 6, 7, 8, 9, 10]\n",
    "naive_grouper(nums, 2)"
   ]
  },
  {
   "cell_type": "code",
   "execution_count": 117,
   "metadata": {},
   "outputs": [
    {
     "data": {
      "text/plain": [
       "[(1, 2), (3, 4), (5, 6), (7, 8), (9, 10)]"
      ]
     },
     "execution_count": 117,
     "metadata": {},
     "output_type": "execute_result"
    }
   ],
   "source": [
    "def better_grouper(inputs, n):\n",
    "    iters = [iter(inputs)] * n\n",
    "    return zip(*iters)\n",
    "\n",
    "nums = [1, 2, 3, 4, 5, 6, 7, 8, 9, 10]\n",
    "list(better_grouper(nums, 2))"
   ]
  },
  {
   "cell_type": "markdown",
   "metadata": {},
   "source": [
    "The expression [iters(inputs)] * n creates a list of n references to the same iterator:"
   ]
  },
  {
   "cell_type": "code",
   "execution_count": 118,
   "metadata": {},
   "outputs": [
    {
     "data": {
      "text/plain": [
       "[140310115194256, 140310115194256]"
      ]
     },
     "execution_count": 118,
     "metadata": {},
     "output_type": "execute_result"
    }
   ],
   "source": [
    "nums = [1, 2, 3, 4, 5, 6, 7, 8, 9, 10]\n",
    "iters = [iter(nums)] * 2\n",
    "list(id(itr) for itr in iters)  # IDs are the same"
   ]
  },
  {
   "cell_type": "markdown",
   "metadata": {},
   "source": [
    "Next, zip(*iters) returns an iterator over pairs of corresponding elements of each iterator in iters. When the first element, 1, is taken from the “first” iterator, the “second” iterator now starts at 2 since it is just a reference to the “first” iterator and has therefore been advanced one step. So, the first tuple produced by zip() is (1, 2).\n",
    "\n",
    "At this point, “both” iterators in iters start at 3, so when zip() pulls 3 from the “first” iterator, it gets 4 from the “second” to produce the tuple (3, 4). This process continues until zip()"
   ]
  },
  {
   "cell_type": "code",
   "execution_count": 119,
   "metadata": {},
   "outputs": [
    {
     "data": {
      "text/plain": [
       "[(1, 2, 3), (4, 5, 6), (7, 8, 9), (10, 11, 12), (13, 14, 15)]"
      ]
     },
     "execution_count": 119,
     "metadata": {},
     "output_type": "execute_result"
    }
   ],
   "source": [
    "def better_grouper(inputs, n):\n",
    "    iters = [iter(inputs)] * n\n",
    "    return zip(*iters)\n",
    "\n",
    "nums = [1,2,3,4,5,6,7,8,9,10,11,12,13,14,15]\n",
    "list(better_grouper(nums, 3))"
   ]
  },
  {
   "cell_type": "markdown",
   "metadata": {},
   "source": [
    "比较 zip(\\*iters) 与 iters："
   ]
  },
  {
   "cell_type": "code",
   "execution_count": 171,
   "metadata": {},
   "outputs": [
    {
     "data": {
      "text/plain": [
       "[(('A', 'H'), ('A', 'D'), ('A', 'C')),\n",
       " (('A', 'S'), ('K', 'H'), ('K', 'D')),\n",
       " (('K', 'C'), ('K', 'S'), ('Q', 'H')),\n",
       " (('Q', 'D'), ('Q', 'C'), ('Q', 'S')),\n",
       " (('J', 'H'), ('J', 'D'), ('J', 'C'))]"
      ]
     },
     "execution_count": 171,
     "metadata": {},
     "output_type": "execute_result"
    }
   ],
   "source": [
    "cards = it.product(ranks, suits)\n",
    "\n",
    "def deal(deck, num_hands, hand_size):\n",
    "    iters = [iter(deck)] * hand_size\n",
    "    return list(tuple(it.islice(itr, num_hands)) for itr in iters)\n",
    "\n",
    "deal(cards, num_hands=3, hand_size=5)"
   ]
  },
  {
   "cell_type": "code",
   "execution_count": 168,
   "metadata": {},
   "outputs": [
    {
     "data": {
      "text/plain": [
       "((('A', 'H'), ('A', 'S'), ('K', 'C'), ('Q', 'D'), ('J', 'H')),\n",
       " (('A', 'D'), ('K', 'H'), ('K', 'S'), ('Q', 'C'), ('J', 'D')),\n",
       " (('A', 'C'), ('K', 'D'), ('Q', 'H'), ('Q', 'S'), ('J', 'C')))"
      ]
     },
     "execution_count": 168,
     "metadata": {},
     "output_type": "execute_result"
    }
   ],
   "source": [
    "cards = it.product(ranks, suits)\n",
    "\n",
    "def deal(deck, num_hands, hand_size):\n",
    "    iters = [iter(deck)] * hand_size\n",
    "    return tuple(zip(*(tuple(it.islice(itr, num_hands)) for itr in iters)))\n",
    "\n",
    "deal(cards, num_hands=3, hand_size=5)"
   ]
  },
  {
   "cell_type": "markdown",
   "metadata": {},
   "source": [
    "# Analyzing the S&P 500"
   ]
  },
  {
   "cell_type": "code",
   "execution_count": 175,
   "metadata": {},
   "outputs": [
    {
     "name": "stdout",
     "output_type": "stream",
     "text": [
      "Date,Open,High,Low,Close,Adj Close,Volume\r\n",
      "1950-01-03,16.660000,16.660000,16.660000,16.660000,16.660000,1260000\r\n",
      "1950-01-04,16.850000,16.850000,16.850000,16.850000,16.850000,1890000\r\n",
      "1950-01-05,16.930000,16.930000,16.930000,16.930000,16.930000,2550000\r\n",
      "1950-01-06,16.980000,16.980000,16.980000,16.980000,16.980000,2010000\r\n",
      "1950-01-09,17.080000,17.080000,17.080000,17.080000,17.080000,2520000\r\n",
      "1950-01-10,17.030001,17.030001,17.030001,17.030001,17.030001,2160000\r\n",
      "1950-01-11,17.090000,17.090000,17.090000,17.090000,17.090000,2630000\r\n",
      "1950-01-12,16.760000,16.760000,16.760000,16.760000,16.760000,2970000\r\n",
      "1950-01-13,16.670000,16.670000,16.670000,16.670000,16.670000,3330000\r\n"
     ]
    }
   ],
   "source": [
    "! head -n 10 SP500.csv"
   ]
  },
  {
   "cell_type": "code",
   "execution_count": null,
   "metadata": {},
   "outputs": [],
   "source": [
    "from collections import namedtuple\n",
    "\n",
    "class DataPoint(namedtuple('DataPoint', ['date', 'value'])):\n",
    "    __slots__"
   ]
  }
 ],
 "metadata": {
  "kernelspec": {
   "display_name": "Python 3",
   "language": "python",
   "name": "python3"
  },
  "language_info": {
   "codemirror_mode": {
    "name": "ipython",
    "version": 3
   },
   "file_extension": ".py",
   "mimetype": "text/x-python",
   "name": "python",
   "nbconvert_exporter": "python",
   "pygments_lexer": "ipython3",
   "version": "3.7.4"
  },
  "toc": {
   "base_numbering": 1,
   "nav_menu": {},
   "number_sections": true,
   "sideBar": true,
   "skip_h1_title": false,
   "title_cell": "Table of Contents",
   "title_sidebar": "Contents",
   "toc_cell": false,
   "toc_position": {},
   "toc_section_display": true,
   "toc_window_display": true
  }
 },
 "nbformat": 4,
 "nbformat_minor": 2
}
